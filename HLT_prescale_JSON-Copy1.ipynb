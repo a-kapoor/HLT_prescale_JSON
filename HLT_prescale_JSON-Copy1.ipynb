{
 "cells": [
  {
   "cell_type": "code",
   "execution_count": 1,
   "id": "b245625f",
   "metadata": {},
   "outputs": [],
   "source": [
    "from correctionlib.schemav2 import CorrectionSet,Correction,Category,CategoryItem, Formula, MultiBinning\n"
   ]
  },
  {
   "cell_type": "code",
   "execution_count": 2,
   "id": "e5ca3795",
   "metadata": {},
   "outputs": [],
   "source": [
    "corrs=[]\n",
    "corr = Correction.parse_obj({\"version\": 2,\n",
    "                             \"name\": \"test\",\n",
    "                             \"description\": \"Testing\",\n",
    "                             \"inputs\": [\n",
    "                                 {\"name\": \"year\",\"type\": \"string\", \"description\": \"year/scenario: example 2016preVFP, 2017 etc\"},\n",
    "                                 {\"name\": \"testinput\",\"type\": \"int\"},\n",
    "                             ],\n",
    "                             \"output\": {\"name\": \"testoutput\", \"type\": \"real\"},\n",
    "                             \"data\": Category.parse_obj({\n",
    "                                 \"nodetype\": \"category\",\n",
    "                                 \"input\": \"year\",\n",
    "                                 \"content\": [CategoryItem.parse_obj({\"key\":'2016',\n",
    "                                                                     \"value\": MultiBinning.parse_obj({\n",
    "                                                                         \"inputs\":[\"testinput\"],\n",
    "                                                                         \"nodetype\": \"multibinning\",\n",
    "                                                                         \"edges\": [[1,2,999]],\n",
    "                                                                         \"content\": [1.0,1.0] ,\n",
    "                                                                         \"flow\": 'error'})\n",
    "                                                                    })\n",
    "                                            ]\n",
    "                                            \n",
    "                             })\n",
    "                            })\n",
    "corrs.append(corr)\n",
    "cset = CorrectionSet(schema_version=2, corrections=corrs,description=\"test\")\n",
    "\n",
    "with open(\"test.json\", \"w\") as fout:\n",
    "        fout.write(cset.json(exclude_unset=True, indent=4))"
   ]
  },
  {
   "cell_type": "code",
   "execution_count": 3,
   "id": "6cc10c13",
   "metadata": {},
   "outputs": [
    {
     "ename": "RuntimeError",
     "evalue": "Unexpected index",
     "output_type": "error",
     "traceback": [
      "\u001b[0;31m---------------------------------------------------------------------------\u001b[0m",
      "\u001b[0;31mRuntimeError\u001b[0m                              Traceback (most recent call last)",
      "\u001b[0;32m<ipython-input-3-c42dc4d652d9>\u001b[0m in \u001b[0;36m<module>\u001b[0;34m\u001b[0m\n\u001b[1;32m      2\u001b[0m \u001b[0;34m\u001b[0m\u001b[0m\n\u001b[1;32m      3\u001b[0m \u001b[0mevaluator\u001b[0m \u001b[0;34m=\u001b[0m \u001b[0m_core\u001b[0m\u001b[0;34m.\u001b[0m\u001b[0mCorrectionSet\u001b[0m\u001b[0;34m.\u001b[0m\u001b[0mfrom_file\u001b[0m\u001b[0;34m(\u001b[0m\u001b[0;34m'test.json'\u001b[0m\u001b[0;34m)\u001b[0m\u001b[0;34m\u001b[0m\u001b[0;34m\u001b[0m\u001b[0m\n\u001b[0;32m----> 4\u001b[0;31m \u001b[0mevaluator\u001b[0m\u001b[0;34m[\u001b[0m\u001b[0;34m\"test\"\u001b[0m\u001b[0;34m]\u001b[0m\u001b[0;34m.\u001b[0m\u001b[0mevaluate\u001b[0m\u001b[0;34m(\u001b[0m\u001b[0;34m'2016'\u001b[0m\u001b[0;34m,\u001b[0m\u001b[0;36m3\u001b[0m\u001b[0;34m)\u001b[0m\u001b[0;34m\u001b[0m\u001b[0;34m\u001b[0m\u001b[0m\n\u001b[0m",
      "\u001b[0;31mRuntimeError\u001b[0m: Unexpected index"
     ]
    }
   ],
   "source": [
    "        \n",
    "from correctionlib import _core\n",
    "\n",
    "evaluator = _core.CorrectionSet.from_file('test.json')\n",
    "evaluator[\"test\"].evaluate('2016',3)"
   ]
  },
  {
   "cell_type": "code",
   "execution_count": null,
   "id": "375259d7",
   "metadata": {},
   "outputs": [],
   "source": []
  },
  {
   "cell_type": "code",
   "execution_count": null,
   "id": "71e33e86",
   "metadata": {},
   "outputs": [],
   "source": []
  },
  {
   "cell_type": "code",
   "execution_count": null,
   "id": "f40ab7e0",
   "metadata": {},
   "outputs": [],
   "source": []
  },
  {
   "cell_type": "code",
   "execution_count": null,
   "id": "4a2ddbb1",
   "metadata": {},
   "outputs": [],
   "source": []
  },
  {
   "cell_type": "code",
   "execution_count": null,
   "id": "1662a00e",
   "metadata": {},
   "outputs": [],
   "source": []
  },
  {
   "cell_type": "code",
   "execution_count": null,
   "id": "4f4aeea9",
   "metadata": {},
   "outputs": [],
   "source": []
  },
  {
   "cell_type": "code",
   "execution_count": null,
   "id": "e7d43781",
   "metadata": {},
   "outputs": [],
   "source": []
  },
  {
   "cell_type": "code",
   "execution_count": null,
   "id": "ca87f929",
   "metadata": {},
   "outputs": [],
   "source": []
  },
  {
   "cell_type": "code",
   "execution_count": null,
   "id": "a1f11d32",
   "metadata": {},
   "outputs": [],
   "source": []
  },
  {
   "cell_type": "code",
   "execution_count": null,
   "id": "386d6b0f",
   "metadata": {},
   "outputs": [],
   "source": []
  },
  {
   "cell_type": "code",
   "execution_count": null,
   "id": "f752f613",
   "metadata": {},
   "outputs": [],
   "source": []
  },
  {
   "cell_type": "code",
   "execution_count": null,
   "id": "bafdf980",
   "metadata": {},
   "outputs": [],
   "source": []
  }
 ],
 "metadata": {
  "kernelspec": {
   "display_name": "Python 3 (ipykernel)",
   "language": "python",
   "name": "python3"
  },
  "language_info": {
   "codemirror_mode": {
    "name": "ipython",
    "version": 3
   },
   "file_extension": ".py",
   "mimetype": "text/x-python",
   "name": "python",
   "nbconvert_exporter": "python",
   "pygments_lexer": "ipython3",
   "version": "3.6.13"
  }
 },
 "nbformat": 4,
 "nbformat_minor": 5
}
